{
 "cells": [
  {
   "cell_type": "code",
   "execution_count": 1,
   "id": "ea32d32e",
   "metadata": {},
   "outputs": [],
   "source": [
    "import cv2"
   ]
  },
  {
   "cell_type": "code",
   "execution_count": 2,
   "id": "6763b740",
   "metadata": {},
   "outputs": [],
   "source": [
    "import numpy as np"
   ]
  },
  {
   "cell_type": "code",
   "execution_count": 3,
   "id": "6062efc5",
   "metadata": {
    "scrolled": true
   },
   "outputs": [
    {
     "name": "stdout",
     "output_type": "stream",
     "text": [
      "(1368, 769, 3)\n"
     ]
    }
   ],
   "source": [
    "im1=cv2.imread(\"C:/Users/Admin/Downloads/ford_mustang.jpg\")\n",
    "print(im1.shape)"
   ]
  },
  {
   "cell_type": "code",
   "execution_count": 4,
   "id": "33c6713f",
   "metadata": {},
   "outputs": [
    {
     "name": "stdout",
     "output_type": "stream",
     "text": [
      "(2249, 1080, 3)\n"
     ]
    }
   ],
   "source": [
    "im2=cv2.imread(\"C:/Users/Admin/Downloads/ford_mutang.jpg\")\n",
    "\n",
    "print(im2.shape)"
   ]
  },
  {
   "cell_type": "code",
   "execution_count": 5,
   "id": "d46809cd",
   "metadata": {},
   "outputs": [],
   "source": [
    "im1_resize=cv2.resize(im1,(473,354))"
   ]
  },
  {
   "cell_type": "code",
   "execution_count": 6,
   "id": "315dbdf8",
   "metadata": {},
   "outputs": [
    {
     "name": "stdout",
     "output_type": "stream",
     "text": [
      "(354, 473, 3)\n"
     ]
    }
   ],
   "source": [
    "print(im1_resize.shape)"
   ]
  },
  {
   "cell_type": "code",
   "execution_count": null,
   "id": "93050e53",
   "metadata": {},
   "outputs": [],
   "source": []
  },
  {
   "cell_type": "code",
   "execution_count": 7,
   "id": "826657c3",
   "metadata": {},
   "outputs": [
    {
     "ename": "NameError",
     "evalue": "name 'im3' is not defined",
     "output_type": "error",
     "traceback": [
      "\u001b[1;31m---------------------------------------------------------------------------\u001b[0m",
      "\u001b[1;31mNameError\u001b[0m                                 Traceback (most recent call last)",
      "Cell \u001b[1;32mIn[7], line 1\u001b[0m\n\u001b[1;32m----> 1\u001b[0m cv2\u001b[38;5;241m.\u001b[39mimshow(\u001b[38;5;124m\"\u001b[39m\u001b[38;5;124mblended\u001b[39m\u001b[38;5;124m\"\u001b[39m,im3)\n\u001b[0;32m      2\u001b[0m cv2\u001b[38;5;241m.\u001b[39mwaitKey(\u001b[38;5;241m0\u001b[39m)\n\u001b[0;32m      3\u001b[0m cv2\u001b[38;5;241m.\u001b[39mdestroyAllWindows()\n",
      "\u001b[1;31mNameError\u001b[0m: name 'im3' is not defined"
     ]
    }
   ],
   "source": [
    "cv2.imshow(\"blended\",im3)\n",
    "cv2.waitKey(0)\n",
    "cv2.destroyAllWindows()"
   ]
  },
  {
   "cell_type": "code",
   "execution_count": null,
   "id": "e67b87c2",
   "metadata": {},
   "outputs": [],
   "source": [
    "#image subraction\n",
    "imsub=cv2.subtract(im1_resize,im2)"
   ]
  },
  {
   "cell_type": "code",
   "execution_count": null,
   "id": "273f9016",
   "metadata": {},
   "outputs": [],
   "source": [
    "cv2.imshow(\"sub\",imsub)\n",
    "cv2.waitKey(0)\n",
    "cv2.destroyAllWindows()"
   ]
  },
  {
   "cell_type": "markdown",
   "id": "63bcb50e",
   "metadata": {},
   "source": []
  },
  {
   "cell_type": "code",
   "execution_count": null,
   "id": "01776efa",
   "metadata": {},
   "outputs": [],
   "source": []
  }
 ],
 "metadata": {
  "kernelspec": {
   "display_name": "Python 3 (ipykernel)",
   "language": "python",
   "name": "python3"
  },
  "language_info": {
   "codemirror_mode": {
    "name": "ipython",
    "version": 3
   },
   "file_extension": ".py",
   "mimetype": "text/x-python",
   "name": "python",
   "nbconvert_exporter": "python",
   "pygments_lexer": "ipython3",
   "version": "3.11.5"
  }
 },
 "nbformat": 4,
 "nbformat_minor": 5
}
