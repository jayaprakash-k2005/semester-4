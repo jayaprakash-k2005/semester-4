{
 "cells": [
  {
   "cell_type": "code",
   "execution_count": null,
   "id": "2876dc58",
   "metadata": {},
   "outputs": [],
   "source": [
    "import cv2 as cv\n",
    "import matplotlib.pyplot as plt\n",
    "import numpy as np"
   ]
  },
  {
   "cell_type": "code",
   "execution_count": null,
   "id": "64a945a6",
   "metadata": {},
   "outputs": [],
   "source": [
    "img = cv.imread('C:/Users/Admin/Downloads/nine tail.jpg')\n",
    "kernal = np.ones((3,3),np.float32)/9\n",
    "filter = cv.filter2D(img,-1,kernal)\n",
    "cv.imshow('image',img)\n",
    "cv.imshow('filter2d',filter)\n",
    "cv.waitKey(0)\n",
    "cv.destroyAllWindows()"
   ]
  },
  {
   "cell_type": "raw",
   "id": "67dd0172",
   "metadata": {},
   "source": [
    "img"
   ]
  },
  {
   "cell_type": "code",
   "execution_count": null,
   "id": "cbd7e3d0",
   "metadata": {},
   "outputs": [],
   "source": [
    "kernal"
   ]
  },
  {
   "cell_type": "raw",
   "id": "9d10eb2c",
   "metadata": {},
   "source": [
    "img = cv.imread('C:/Users/Admin/Downloads/nine tail.jpg')\n",
    "blur = cv.blur(img,(3,3))\n",
    "cv.imshow('image',img)\n",
    "cv.imshow('blur',blur)\n",
    "cv.waitKey(0)\n",
    "cv.destroyAllWindows()"
   ]
  },
  {
   "cell_type": "markdown",
   "id": "eb82969e",
   "metadata": {},
   "source": [
    "# gaussian blur"
   ]
  },
  {
   "cell_type": "code",
   "execution_count": null,
   "id": "d585b5cc",
   "metadata": {},
   "outputs": [],
   "source": [
    "img = cv.imread('C:/Users/Admin/Downloads/noise image.jpg')\n",
    "Gblur = cv.GaussianBlur(img,(7,7),0)\n",
    "cv.imshow('image',img)\n",
    "cv.imshow('Gaussianblur',Gblur)\n",
    "cv.waitKey(0)\n",
    "cv.destroyAllWindows()"
   ]
  },
  {
   "cell_type": "code",
   "execution_count": null,
   "id": "2ce23c93",
   "metadata": {},
   "outputs": [],
   "source": [
    "img.shape"
   ]
  },
  {
   "cell_type": "code",
   "execution_count": null,
   "id": "29e30196",
   "metadata": {},
   "outputs": [],
   "source": [
    "img"
   ]
  },
  {
   "cell_type": "markdown",
   "id": "28aef4ea",
   "metadata": {},
   "source": [
    "# bilateral filters"
   ]
  },
  {
   "cell_type": "code",
   "execution_count": null,
   "id": "85afb7ff",
   "metadata": {},
   "outputs": [],
   "source": [
    "img = cv.imread('C:/Users/Admin/Downloads/noise image.jpg')\n",
    "Bfilter = cv.bilateralFilter(img,9,50,50)\n",
    "cv.imshow('image',img)\n",
    "cv.imshow('Bilateral',Bfilter)\n",
    "cv.waitKey(0)\n",
    "cv.destroyAllWindows()"
   ]
  },
  {
   "cell_type": "code",
   "execution_count": null,
   "id": "01fd702f",
   "metadata": {},
   "outputs": [],
   "source": [
    "img"
   ]
  },
  {
   "cell_type": "code",
   "execution_count": null,
   "id": "79cb694b",
   "metadata": {},
   "outputs": [],
   "source": [
    "img.shape"
   ]
  },
  {
   "cell_type": "code",
   "execution_count": null,
   "id": "2a382677",
   "metadata": {},
   "outputs": [],
   "source": [
    "Bfilter"
   ]
  },
  {
   "cell_type": "code",
   "execution_count": null,
   "id": "21924abd",
   "metadata": {},
   "outputs": [],
   "source": [
    "img = cv.imread('C:/Users/Admin/Downloads/salt and pepper noise image.jpg')\n",
    "medianFilter = cv.medianBlur(img,5)\n",
    "cv.imshow('image',img)\n",
    "cv.imshow('medianBlur',medianFilter)\n",
    "cv.waitKey(0)\n",
    "cv.destroyAllWindows()"
   ]
  },
  {
   "cell_type": "markdown",
   "id": "d52b7a7b",
   "metadata": {},
   "source": [
    "# LAPLACIAN FILTER"
   ]
  },
  {
   "cell_type": "code",
   "execution_count": null,
   "id": "6770231d",
   "metadata": {},
   "outputs": [],
   "source": [
    "img = cv.imread('C:/Users/Admin/Downloads/photo.jpg',0)\n",
    "lap1 = cv.Laplacian(img,cv.CV_64F,ksize=7)\n",
    "lap2 = np.uint8(np.absolute(lap))\n",
    "cv.imshow('image',img)\n",
    "cv.imshow('laplacian',lap)\n",
    "cv.waitKey(0)\n",
    "cv.destroyAllWindows()"
   ]
  },
  {
   "cell_type": "code",
   "execution_count": null,
   "id": "dafc7f30",
   "metadata": {},
   "outputs": [],
   "source": [
    "img"
   ]
  },
  {
   "cell_type": "code",
   "execution_count": null,
   "id": "68eaec20",
   "metadata": {},
   "outputs": [],
   "source": [
    "lap1"
   ]
  },
  {
   "cell_type": "code",
   "execution_count": null,
   "id": "43413616",
   "metadata": {},
   "outputs": [],
   "source": [
    "lap2"
   ]
  },
  {
   "cell_type": "code",
   "execution_count": null,
   "id": "8170a499",
   "metadata": {},
   "outputs": [],
   "source": [
    "img = cv.imread('C:/Users/Admin/Downloads/sudoku image.png',0)\n",
    "img = cv.resize(img,(400,400))\n",
    "sobelx = cv.Sobel(img,cv.CV_64F,1,0,ksize=3)\n",
    "sobely = cv.Sobel(img,cv.CV_64F,0,1,ksize=3)\n",
    "sobelx = np.uint8(np.absolute(sobelx))\n",
    "sobely = np.uint8(np.absolute(sobely))\n",
    "cv.imshow('image',img)\n",
    "cv.imshow('sobelx',sobelx)\n",
    "cv.imshow('sobely',sobely)\n",
    "cv.waitKey(0)\n",
    "cv.destroyAllWindows()\n"
   ]
  },
  {
   "cell_type": "code",
   "execution_count": null,
   "id": "4317e374",
   "metadata": {},
   "outputs": [],
   "source": []
  }
 ],
 "metadata": {
  "kernelspec": {
   "display_name": "Python 3 (ipykernel)",
   "language": "python",
   "name": "python3"
  },
  "language_info": {
   "codemirror_mode": {
    "name": "ipython",
    "version": 3
   },
   "file_extension": ".py",
   "mimetype": "text/x-python",
   "name": "python",
   "nbconvert_exporter": "python",
   "pygments_lexer": "ipython3",
   "version": "3.11.5"
  }
 },
 "nbformat": 4,
 "nbformat_minor": 5
}
