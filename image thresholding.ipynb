{
 "cells": [
  {
   "cell_type": "markdown",
   "id": "3636d785",
   "metadata": {},
   "source": [
    "# image thresholding"
   ]
  },
  {
   "cell_type": "code",
   "execution_count": 2,
   "id": "bf6cab79",
   "metadata": {},
   "outputs": [],
   "source": [
    "import cv2\n",
    "import numpy"
   ]
  },
  {
   "cell_type": "code",
   "execution_count": 4,
   "id": "a6e51654",
   "metadata": {},
   "outputs": [],
   "source": [
    "im1=cv2.imread(\"C:/Users/Admin/Downloads/th.jpg\")"
   ]
  },
  {
   "cell_type": "code",
   "execution_count": 5,
   "id": "9e641215",
   "metadata": {},
   "outputs": [
    {
     "data": {
      "text/plain": [
       "array([[[249, 251, 252],\n",
       "        [249, 251, 252],\n",
       "        [249, 251, 252],\n",
       "        ...,\n",
       "        [171, 193, 198],\n",
       "        [173, 192, 197],\n",
       "        [178, 194, 200]],\n",
       "\n",
       "       [[250, 252, 253],\n",
       "        [250, 252, 253],\n",
       "        [249, 251, 252],\n",
       "        ...,\n",
       "        [162, 184, 189],\n",
       "        [166, 185, 190],\n",
       "        [169, 188, 193]],\n",
       "\n",
       "       [[251, 253, 253],\n",
       "        [251, 253, 253],\n",
       "        [250, 252, 252],\n",
       "        ...,\n",
       "        [154, 176, 181],\n",
       "        [158, 178, 183],\n",
       "        [161, 181, 186]],\n",
       "\n",
       "       ...,\n",
       "\n",
       "       [[137, 109,  92],\n",
       "        [124,  99,  83],\n",
       "        [104,  85,  72],\n",
       "        ...,\n",
       "        [ 67,  78, 130],\n",
       "        [ 55,  63, 122],\n",
       "        [ 52,  60, 120]],\n",
       "\n",
       "       [[142, 112,  93],\n",
       "        [127, 101,  84],\n",
       "        [105,  86,  73],\n",
       "        ...,\n",
       "        [ 67,  79, 133],\n",
       "        [ 58,  69, 127],\n",
       "        [ 54,  64, 124]],\n",
       "\n",
       "       [[143, 113,  94],\n",
       "        [128, 102,  85],\n",
       "        [108,  86,  74],\n",
       "        ...,\n",
       "        [ 81,  93, 147],\n",
       "        [ 68,  79, 137],\n",
       "        [ 65,  75, 135]]], dtype=uint8)"
      ]
     },
     "execution_count": 5,
     "metadata": {},
     "output_type": "execute_result"
    }
   ],
   "source": [
    "im1"
   ]
  },
  {
   "cell_type": "code",
   "execution_count": 6,
   "id": "ba614a82",
   "metadata": {},
   "outputs": [
    {
     "ename": "AttributeError",
     "evalue": "module 'cv2' has no attribute 'waithtkey'",
     "output_type": "error",
     "traceback": [
      "\u001b[1;31m---------------------------------------------------------------------------\u001b[0m",
      "\u001b[1;31mAttributeError\u001b[0m                            Traceback (most recent call last)",
      "Cell \u001b[1;32mIn[6], line 2\u001b[0m\n\u001b[0;32m      1\u001b[0m cv2\u001b[38;5;241m.\u001b[39mimshow(\u001b[38;5;124m\"\u001b[39m\u001b[38;5;124mim1\u001b[39m\u001b[38;5;124m\"\u001b[39m,im1)\n\u001b[1;32m----> 2\u001b[0m cv2\u001b[38;5;241m.\u001b[39mwaithtkey(\u001b[38;5;241m0\u001b[39m)\n\u001b[0;32m      3\u001b[0m cv2\u001b[38;5;241m.\u001b[39mdestroyAlWindow()\n",
      "\u001b[1;31mAttributeError\u001b[0m: module 'cv2' has no attribute 'waithtkey'"
     ]
    }
   ],
   "source": [
    "cv2.imshow(\"im1\",im1)\n",
    "cv2.waithtkey(0)\n",
    "cv2.destroyAlWindow()"
   ]
  },
  {
   "cell_type": "raw",
   "id": "661060b0",
   "metadata": {},
   "source": [
    "ret,thersl1=cv2.threshold(im1,83,100,cv2,THRESH_BINARY)\n",
    "ret,thersl1=CV2.thershold(im1,83,100,cv2,THRESH_BINARY)\n"
   ]
  }
 ],
 "metadata": {
  "kernelspec": {
   "display_name": "Python 3 (ipykernel)",
   "language": "python",
   "name": "python3"
  },
  "language_info": {
   "codemirror_mode": {
    "name": "ipython",
    "version": 3
   },
   "file_extension": ".py",
   "mimetype": "text/x-python",
   "name": "python",
   "nbconvert_exporter": "python",
   "pygments_lexer": "ipython3",
   "version": "3.11.5"
  }
 },
 "nbformat": 4,
 "nbformat_minor": 5
}
