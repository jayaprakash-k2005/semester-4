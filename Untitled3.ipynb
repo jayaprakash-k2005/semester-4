{
 "cells": [
  {
   "cell_type": "markdown",
   "id": "7bf1babb",
   "metadata": {},
   "source": [
    "# image blending"
   ]
  },
  {
   "cell_type": "code",
   "execution_count": 21,
   "id": "1c836771",
   "metadata": {},
   "outputs": [],
   "source": [
    "import cv2\n",
    "import numpy "
   ]
  },
  {
   "cell_type": "code",
   "execution_count": 22,
   "id": "e878f81a",
   "metadata": {},
   "outputs": [],
   "source": [
    "im1=cv2.imread(\"C:/Users/Admin/Downloads.jpg\",1)\n",
    "im2=cv2.imread(\"C:/Users/Admin/Downloads.jpg\",1)"
   ]
  },
  {
   "cell_type": "code",
   "execution_count": 23,
   "id": "3d50d60e",
   "metadata": {},
   "outputs": [],
   "source": [
    "im1"
   ]
  },
  {
   "cell_type": "code",
   "execution_count": 24,
   "id": "304951ea",
   "metadata": {},
   "outputs": [],
   "source": [
    "im2"
   ]
  },
  {
   "cell_type": "code",
   "execution_count": 25,
   "id": "0eac6afb",
   "metadata": {},
   "outputs": [
    {
     "ename": "error",
     "evalue": "OpenCV(4.9.0) D:\\a\\opencv-python\\opencv-python\\opencv\\modules\\highgui\\src\\window.cpp:971: error: (-215:Assertion failed) size.width>0 && size.height>0 in function 'cv::imshow'\n",
     "output_type": "error",
     "traceback": [
      "\u001b[1;31m---------------------------------------------------------------------------\u001b[0m",
      "\u001b[1;31merror\u001b[0m                                     Traceback (most recent call last)",
      "Cell \u001b[1;32mIn[25], line 1\u001b[0m\n\u001b[1;32m----> 1\u001b[0m cv2\u001b[38;5;241m.\u001b[39mimshow(\u001b[38;5;124m\"\u001b[39m\u001b[38;5;124mImg1\u001b[39m\u001b[38;5;124m\"\u001b[39m,im1)\n\u001b[0;32m      2\u001b[0m cv2\u001b[38;5;241m.\u001b[39mimshow(\u001b[38;5;124m\"\u001b[39m\u001b[38;5;124mImg2\u001b[39m\u001b[38;5;124m\"\u001b[39m,im2)\n\u001b[0;32m      3\u001b[0m cv2\u001b[38;5;241m.\u001b[39mwaitKey(\u001b[38;5;241m0\u001b[39m)\n",
      "\u001b[1;31merror\u001b[0m: OpenCV(4.9.0) D:\\a\\opencv-python\\opencv-python\\opencv\\modules\\highgui\\src\\window.cpp:971: error: (-215:Assertion failed) size.width>0 && size.height>0 in function 'cv::imshow'\n"
     ]
    }
   ],
   "source": [
    "cv2.imshow(\"Img1\",im1)\n",
    "cv2.imshow(\"Img2\",im2)\n",
    "cv2.waitKey(0)\n",
    "cv2.destroyAllWindows()"
   ]
  },
  {
   "cell_type": "code",
   "execution_count": null,
   "id": "60d966b2",
   "metadata": {},
   "outputs": [],
   "source": []
  }
 ],
 "metadata": {
  "kernelspec": {
   "display_name": "Python 3 (ipykernel)",
   "language": "python",
   "name": "python3"
  },
  "language_info": {
   "codemirror_mode": {
    "name": "ipython",
    "version": 3
   },
   "file_extension": ".py",
   "mimetype": "text/x-python",
   "name": "python",
   "nbconvert_exporter": "python",
   "pygments_lexer": "ipython3",
   "version": "3.11.5"
  }
 },
 "nbformat": 4,
 "nbformat_minor": 5
}
