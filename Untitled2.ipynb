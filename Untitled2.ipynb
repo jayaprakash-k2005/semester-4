{
 "cells": [
  {
   "cell_type": "code",
   "execution_count": 1,
   "id": "227f0565",
   "metadata": {},
   "outputs": [],
   "source": [
    "import cv2\n",
    "import numpy as np"
   ]
  },
  {
   "cell_type": "code",
   "execution_count": 2,
   "id": "0527023a",
   "metadata": {},
   "outputs": [],
   "source": [
    "im1=cv2.imread(\"C:/Users/Admin/Downloads/download.jpg\")"
   ]
  },
  {
   "cell_type": "code",
   "execution_count": 3,
   "id": "8378875f",
   "metadata": {},
   "outputs": [
    {
     "data": {
      "text/plain": [
       "array([[[ 4,  2, 14],\n",
       "        [ 8,  7, 17],\n",
       "        [ 6,  5, 15],\n",
       "        ...,\n",
       "        [22, 23, 44],\n",
       "        [11, 12, 33],\n",
       "        [ 0,  0, 15]],\n",
       "\n",
       "       [[ 4,  2, 14],\n",
       "        [11, 10, 20],\n",
       "        [ 0,  0,  6],\n",
       "        ...,\n",
       "        [ 3,  3, 27],\n",
       "        [ 0,  0, 18],\n",
       "        [ 0,  0, 24]],\n",
       "\n",
       "       [[ 7,  6, 16],\n",
       "        [ 6,  5, 14],\n",
       "        [ 0,  0,  8],\n",
       "        ...,\n",
       "        [ 0,  0, 21],\n",
       "        [ 0,  0, 20],\n",
       "        [ 0,  0, 23]],\n",
       "\n",
       "       ...,\n",
       "\n",
       "       [[ 1,  0,  2],\n",
       "        [ 1,  0,  4],\n",
       "        [ 1,  0,  4],\n",
       "        ...,\n",
       "        [ 3,  6, 44],\n",
       "        [33, 38, 77],\n",
       "        [10, 16, 59]],\n",
       "\n",
       "       [[ 0,  1,  1],\n",
       "        [ 0,  1,  1],\n",
       "        [ 0,  1,  2],\n",
       "        ...,\n",
       "        [ 9, 11, 45],\n",
       "        [28, 34, 71],\n",
       "        [ 9, 14, 53]],\n",
       "\n",
       "       [[ 0,  1,  1],\n",
       "        [ 0,  1,  1],\n",
       "        [ 0,  1,  2],\n",
       "        ...,\n",
       "        [16, 18, 52],\n",
       "        [21, 27, 64],\n",
       "        [ 4,  9, 48]]], dtype=uint8)"
      ]
     },
     "execution_count": 3,
     "metadata": {},
     "output_type": "execute_result"
    }
   ],
   "source": [
    "im1"
   ]
  },
  {
   "cell_type": "code",
   "execution_count": 4,
   "id": "875f6430",
   "metadata": {},
   "outputs": [
    {
     "name": "stdout",
     "output_type": "stream",
     "text": [
      "(275, 183, 3)\n"
     ]
    }
   ],
   "source": [
    "print(im1.shape)"
   ]
  },
  {
   "cell_type": "code",
   "execution_count": 5,
   "id": "f8385419",
   "metadata": {},
   "outputs": [
    {
     "name": "stdout",
     "output_type": "stream",
     "text": [
      "150975\n"
     ]
    }
   ],
   "source": [
    "print(im1.size)"
   ]
  },
  {
   "cell_type": "code",
   "execution_count": 6,
   "id": "31cd1d7d",
   "metadata": {},
   "outputs": [],
   "source": [
    "im1_resized=cv2.resize(im1,(250,250))"
   ]
  },
  {
   "cell_type": "code",
   "execution_count": 7,
   "id": "7251f28e",
   "metadata": {},
   "outputs": [
    {
     "name": "stdout",
     "output_type": "stream",
     "text": [
      "(250, 250, 3)\n"
     ]
    }
   ],
   "source": [
    "print(im1_resized.shape)"
   ]
  },
  {
   "cell_type": "code",
   "execution_count": 20,
   "id": "cbe10f3d",
   "metadata": {},
   "outputs": [],
   "source": [
    "cv2.imshow(\"Img1\",im1)\n",
    "cv2.imshow(\"Img2\",im1_resized)\n",
    "cv2.waitKey(0)\n",
    "cv2.destroyAllWindows()"
   ]
  },
  {
   "cell_type": "markdown",
   "id": "0a7d21d6",
   "metadata": {},
   "source": [
    "# color space changing"
   ]
  },
  {
   "cell_type": "code",
   "execution_count": 21,
   "id": "06631965",
   "metadata": {},
   "outputs": [],
   "source": [
    "colors_avl=[i for i in dir (cv2)if i. startswith(\"COLOR_BGR\")]"
   ]
  },
  {
   "cell_type": "code",
   "execution_count": 22,
   "id": "3adfffdd",
   "metadata": {},
   "outputs": [
    {
     "name": "stdout",
     "output_type": "stream",
     "text": [
      "['COLOR_BGR2BGR555', 'COLOR_BGR2BGR565', 'COLOR_BGR2BGRA', 'COLOR_BGR2GRAY', 'COLOR_BGR2HLS', 'COLOR_BGR2HLS_FULL', 'COLOR_BGR2HSV', 'COLOR_BGR2HSV_FULL', 'COLOR_BGR2LAB', 'COLOR_BGR2LUV', 'COLOR_BGR2Lab', 'COLOR_BGR2Luv', 'COLOR_BGR2RGB', 'COLOR_BGR2RGBA', 'COLOR_BGR2XYZ', 'COLOR_BGR2YCR_CB', 'COLOR_BGR2YCrCb', 'COLOR_BGR2YUV', 'COLOR_BGR2YUV_I420', 'COLOR_BGR2YUV_IYUV', 'COLOR_BGR2YUV_UYNV', 'COLOR_BGR2YUV_UYVY', 'COLOR_BGR2YUV_Y422', 'COLOR_BGR2YUV_YUNV', 'COLOR_BGR2YUV_YUY2', 'COLOR_BGR2YUV_YUYV', 'COLOR_BGR2YUV_YV12', 'COLOR_BGR2YUV_YVYU', 'COLOR_BGR5552BGR', 'COLOR_BGR5552BGRA', 'COLOR_BGR5552GRAY', 'COLOR_BGR5552RGB', 'COLOR_BGR5552RGBA', 'COLOR_BGR5652BGR', 'COLOR_BGR5652BGRA', 'COLOR_BGR5652GRAY', 'COLOR_BGR5652RGB', 'COLOR_BGR5652RGBA', 'COLOR_BGRA2BGR', 'COLOR_BGRA2BGR555', 'COLOR_BGRA2BGR565', 'COLOR_BGRA2GRAY', 'COLOR_BGRA2RGB', 'COLOR_BGRA2RGBA', 'COLOR_BGRA2YUV_I420', 'COLOR_BGRA2YUV_IYUV', 'COLOR_BGRA2YUV_UYNV', 'COLOR_BGRA2YUV_UYVY', 'COLOR_BGRA2YUV_Y422', 'COLOR_BGRA2YUV_YUNV', 'COLOR_BGRA2YUV_YUY2', 'COLOR_BGRA2YUV_YUYV', 'COLOR_BGRA2YUV_YV12', 'COLOR_BGRA2YUV_YVYU']\n"
     ]
    }
   ],
   "source": [
    "print(colors_avl)"
   ]
  },
  {
   "cell_type": "code",
   "execution_count": 23,
   "id": "99cc0658",
   "metadata": {},
   "outputs": [],
   "source": [
    "im3=cv2.cvtColor(im1,cv2.COLOR_BGR2HSV)"
   ]
  },
  {
   "cell_type": "code",
   "execution_count": 24,
   "id": "dbe68ec2",
   "metadata": {},
   "outputs": [],
   "source": [
    "cv2.imshow(\"Img1\",im1)\n",
    "cv2.imshow(\"Img2\",im3)\n",
    "cv2.waitKey(0)\n",
    "cv2.destroyAllWindows()"
   ]
  },
  {
   "cell_type": "code",
   "execution_count": null,
   "id": "57d21fa6",
   "metadata": {},
   "outputs": [],
   "source": []
  }
 ],
 "metadata": {
  "kernelspec": {
   "display_name": "Python 3 (ipykernel)",
   "language": "python",
   "name": "python3"
  },
  "language_info": {
   "codemirror_mode": {
    "name": "ipython",
    "version": 3
   },
   "file_extension": ".py",
   "mimetype": "text/x-python",
   "name": "python",
   "nbconvert_exporter": "python",
   "pygments_lexer": "ipython3",
   "version": "3.11.5"
  }
 },
 "nbformat": 4,
 "nbformat_minor": 5
}
