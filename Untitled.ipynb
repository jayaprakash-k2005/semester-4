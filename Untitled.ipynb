{
 "cells": [
  {
   "cell_type": "code",
   "execution_count": 7,
   "id": "f6e82458",
   "metadata": {},
   "outputs": [
    {
     "name": "stdout",
     "output_type": "stream",
     "text": [
      "Defaulting to user installation because normal site-packages is not writeable\n",
      "Requirement already satisfied: opencv-python in c:\\users\\admin\\appdata\\roaming\\python\\python311\\site-packages (4.9.0.80)\n",
      "Requirement already satisfied: numpy>=1.21.2 in c:\\programdata\\anaconda3\\lib\\site-packages (from opencv-python) (1.24.3)\n",
      "Note: you may need to restart the kernel to use updated packages.\n"
     ]
    },
    {
     "name": "stderr",
     "output_type": "stream",
     "text": [
      "DEPRECATION: Loading egg at c:\\programdata\\anaconda3\\lib\\site-packages\\vboxapi-1.0-py3.11.egg is deprecated. pip 23.3 will enforce this behaviour change. A possible replacement is to use pip for package installation..\n"
     ]
    }
   ],
   "source": [
    "pip install opencv-python"
   ]
  },
  {
   "cell_type": "code",
   "execution_count": 8,
   "id": "e768e988",
   "metadata": {
    "scrolled": true
   },
   "outputs": [],
   "source": [
    "import cv2"
   ]
  },
  {
   "cell_type": "code",
   "execution_count": 9,
   "id": "4de85170",
   "metadata": {
    "scrolled": true
   },
   "outputs": [],
   "source": [
    "import numpy as np"
   ]
  },
  {
   "cell_type": "code",
   "execution_count": 11,
   "id": "618b6710",
   "metadata": {},
   "outputs": [],
   "source": [
    "im1=cv2.imread(\"C:/Users/Admin/Downloads/download.jpg\")"
   ]
  },
  {
   "cell_type": "code",
   "execution_count": 12,
   "id": "8bef5af3",
   "metadata": {},
   "outputs": [
    {
     "data": {
      "text/plain": [
       "array([[[ 4,  2, 14],\n",
       "        [ 8,  7, 17],\n",
       "        [ 6,  5, 15],\n",
       "        ...,\n",
       "        [22, 23, 44],\n",
       "        [11, 12, 33],\n",
       "        [ 0,  0, 15]],\n",
       "\n",
       "       [[ 4,  2, 14],\n",
       "        [11, 10, 20],\n",
       "        [ 0,  0,  6],\n",
       "        ...,\n",
       "        [ 3,  3, 27],\n",
       "        [ 0,  0, 18],\n",
       "        [ 0,  0, 24]],\n",
       "\n",
       "       [[ 7,  6, 16],\n",
       "        [ 6,  5, 14],\n",
       "        [ 0,  0,  8],\n",
       "        ...,\n",
       "        [ 0,  0, 21],\n",
       "        [ 0,  0, 20],\n",
       "        [ 0,  0, 23]],\n",
       "\n",
       "       ...,\n",
       "\n",
       "       [[ 1,  0,  2],\n",
       "        [ 1,  0,  4],\n",
       "        [ 1,  0,  4],\n",
       "        ...,\n",
       "        [ 3,  6, 44],\n",
       "        [33, 38, 77],\n",
       "        [10, 16, 59]],\n",
       "\n",
       "       [[ 0,  1,  1],\n",
       "        [ 0,  1,  1],\n",
       "        [ 0,  1,  2],\n",
       "        ...,\n",
       "        [ 9, 11, 45],\n",
       "        [28, 34, 71],\n",
       "        [ 9, 14, 53]],\n",
       "\n",
       "       [[ 0,  1,  1],\n",
       "        [ 0,  1,  1],\n",
       "        [ 0,  1,  2],\n",
       "        ...,\n",
       "        [16, 18, 52],\n",
       "        [21, 27, 64],\n",
       "        [ 4,  9, 48]]], dtype=uint8)"
      ]
     },
     "execution_count": 12,
     "metadata": {},
     "output_type": "execute_result"
    }
   ],
   "source": [
    "im1"
   ]
  },
  {
   "cell_type": "code",
   "execution_count": 23,
   "id": "ed8ba374",
   "metadata": {},
   "outputs": [],
   "source": [
    "cv2.imshow(\"w1\",im1)"
   ]
  },
  {
   "cell_type": "code",
   "execution_count": 24,
   "id": "32b2deb2",
   "metadata": {},
   "outputs": [
    {
     "data": {
      "text/plain": [
       "13"
      ]
     },
     "execution_count": 24,
     "metadata": {},
     "output_type": "execute_result"
    }
   ],
   "source": [
    "cv2.waitKey(0)"
   ]
  },
  {
   "cell_type": "code",
   "execution_count": 25,
   "id": "66295db9",
   "metadata": {},
   "outputs": [
    {
     "data": {
      "text/plain": [
       "<function destroyAllWindows>"
      ]
     },
     "execution_count": 25,
     "metadata": {},
     "output_type": "execute_result"
    }
   ],
   "source": [
    "cv2.destroyAllWindows"
   ]
  },
  {
   "cell_type": "code",
   "execution_count": null,
   "id": "b7dc429f",
   "metadata": {},
   "outputs": [],
   "source": []
  }
 ],
 "metadata": {
  "kernelspec": {
   "display_name": "Python 3 (ipykernel)",
   "language": "python",
   "name": "python3"
  },
  "language_info": {
   "codemirror_mode": {
    "name": "ipython",
    "version": 3
   },
   "file_extension": ".py",
   "mimetype": "text/x-python",
   "name": "python",
   "nbconvert_exporter": "python",
   "pygments_lexer": "ipython3",
   "version": "3.11.5"
  }
 },
 "nbformat": 4,
 "nbformat_minor": 5
}
